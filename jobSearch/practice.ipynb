{
 "cells": [
  {
   "cell_type": "raw",
   "metadata": {},
   "source": [
    "source\n",
    "1. https://blog.jiatool.com/posts/job104_spider/\n",
    "2. https://p4css.github.io/R4CSS_TA/AS07_Web-Scraping-JSON_ref.html\n",
    "3. https://tlyu0419.github.io/2020/06/19/Crawler-104HumanResource/\n",
    "4. https://github.com/SuYenTing/Python-web-crawler"
   ]
  },
  {
   "cell_type": "code",
   "execution_count": 1,
   "metadata": {},
   "outputs": [],
   "source": [
    "import time\n",
    "import random\n",
    "import requests"
   ]
  },
  {
   "cell_type": "code",
   "execution_count": 9,
   "metadata": {},
   "outputs": [],
   "source": [
    "class Job104Spider():\n",
    "    def search(self, keyword, max_nun=10, filter_params=None, sort_type='符合度', is_sort_asc=False):\n",
    "        # 產生搜尋結果\n",
    "        jobs = []\n",
    "        total_count = 0\n",
    "\n",
    "        url = 'https://www.104.com.tw/jobs/search/list'\n",
    "        # 這個url不是從網址來的，要到F12>XHR>Headers中查找，所以一定要最後面的list\n",
    "        query = f'ro=0&kwop=7&keyword={keyword}&expansionType=area,spec,com,job,wf,wktm&mode=s&jobsource=2018indexpoc'\n",
    "        if filter_params:\n",
    "            # 加上篩選參數，要先轉換為 URL 參數字串格式\n",
    "            query += ''.join([f'&{key}={value}' for key, value, in filter_params.items()])\n",
    "            \n",
    "        # 加上排序條件\n",
    "        sort_dict = {\n",
    "            '符合度': '1',\n",
    "            '日期': '2',\n",
    "            '經歷': '3',\n",
    "            '學歷': '4',\n",
    "            '應徵人數': '7',\n",
    "            '待遇': '13',\n",
    "        }\n",
    "        \n",
    "        # 結果排序\n",
    "        sort_params = f\"&order={sort_dict.get(sort_type, '1')}\"\n",
    "        sort_params += '&asc=1' if is_sort_asc else '&asc=0'\n",
    "        query += sort_params\n",
    "            \n",
    "        # 設定headers，偽裝成真人搜尋，避免被網頁偵測到\n",
    "        headers = {\n",
    "            'User-Agent': 'Mozilla/5.0 (Windows NT 10.0; Win64; x64) AppleWebKit/537.36 (KHTML, like Gecko) Chrome/81.0.4044.92 Safari/537.36',\n",
    "            'Referer': 'https://www.104.com.tw/jobs/search/',\n",
    "        }\n",
    "        \n",
    "        page = 1\n",
    "        while len(jobs) < max_nun:\n",
    "            params = f'{query}&page={page}'\n",
    "            r = requests.get(url, params=params, headers=headers)\n",
    "            if r.status_code != requests.codes.ok:\n",
    "                print('請求失敗', r.status_code)\n",
    "                data = r.json()\n",
    "                print(data['status'], data['statusMsg'], data['errorMsg'])\n",
    "                break\n",
    "\n",
    "            data = r.json()\n",
    "            total_count = data['data']['totalCount']\n",
    "            jobs.extend(data['data']['list'])\n",
    "\n",
    "            if (page == data['data']['totalPage']) or (data['data']['totalPage'] == 0):\n",
    "                break\n",
    "            page += 1\n",
    "            time.sleep(random.uniform(3, 5))\n",
    "\n",
    "        return total_count, jobs[:max_nun]\n",
    "    \n",
    "    def search_job_transform(self, job_data):\n",
    "        # 轉換格式\n",
    "        \"\"\"將職缺資料轉換格式、補齊資料\"\"\"\n",
    "        appear_date = job_data['appearDate']\n",
    "        apply_num = int(job_data['applyCnt'])\n",
    "        company_addr = f\"{job_data['jobAddrNoDesc']} {job_data['jobAddress']}\"\n",
    "\n",
    "        job_url = f\"https:{job_data['link']['job']}\"\n",
    "        job_company_url = f\"https:{job_data['link']['cust']}\"\n",
    "        job_analyze_url = f\"https:{job_data['link']['applyAnalyze']}\"\n",
    "\n",
    "        job_id = job_url.split('/job/')[-1]\n",
    "        if '?' in job_id:\n",
    "            job_id = job_id.split('?')[0]\n",
    "\n",
    "        salary_high = int(job_data['salaryLow'])\n",
    "        salary_low = int(job_data['salaryHigh'])\n",
    "\n",
    "        job = {\n",
    "            'job_id': job_id,\n",
    "            'type': job_data['jobType'],\n",
    "            'name': job_data['jobName'],  # 職缺名稱\n",
    "            # 'desc': job_data['descSnippet'],  # 描述\n",
    "            'appear_date': appear_date,  # 更新日期\n",
    "            'apply_num': apply_num,\n",
    "            'apply_text': job_data['applyDesc'],  # 應徵人數描述\n",
    "            'company_name': job_data['custName'],  # 公司名稱\n",
    "            'company_addr': company_addr,  # 工作地址\n",
    "            'job_url': job_url,  # 職缺網頁\n",
    "            'job_analyze_url': job_analyze_url,  # 應徵分析網頁\n",
    "            'job_company_url': job_company_url,  # 公司介紹網頁\n",
    "            'lon': job_data['lon'],  # 經度\n",
    "            'lat': job_data['lat'],  # 緯度\n",
    "            'education': job_data['optionEdu'],  # 學歷\n",
    "            'period': job_data['periodDesc'],  # 經驗年份\n",
    "            'salary': job_data['salaryDesc'],  # 薪資描述\n",
    "            'salary_high': salary_high,  # 薪資最高\n",
    "            'salary_low': salary_low,  # 薪資最低\n",
    "            'tags': job_data['tags'],  # 標籤\n",
    "        }\n",
    "        return job\n",
    "    \n",
    "    def get_job(self, job_id):\n",
    "        \"\"\"get a job content by job_id\"\"\"\n",
    "        url = f'https://www.104.com.tw/job/ajax/content/{job_id}'\n",
    "\n",
    "        headers = {\n",
    "            'User-Agent': 'Mozilla/5.0 (Windows NT 10.0; Win64; x64) AppleWebKit/537.36 (KHTML, like Gecko) Chrome/81.0.4044.92 Safari/537.36',\n",
    "            'Referer': f'https://www.104.com.tw/job/{job_id}'\n",
    "        }\n",
    "\n",
    "        r = requests.get(url, headers=headers)\n",
    "        if r.status_code != requests.codes.ok:\n",
    "            print('請求失敗', r.status_code)\n",
    "            return\n",
    "\n",
    "        data = r.json()\n",
    "        return data['data']"
   ]
  },
  {
   "cell_type": "code",
   "execution_count": 10,
   "metadata": {},
   "outputs": [],
   "source": [
    "job104_spider = Job104Spider()"
   ]
  },
  {
   "cell_type": "code",
   "execution_count": 11,
   "metadata": {},
   "outputs": [],
   "source": [
    "filter_params = {\n",
    "    'area': '6001001000,6001016000',  # (地區) 台北市,高雄市\n",
    "    # 's9': '1,2,4,8',  # (上班時段) 日班,夜班,大夜班,假日班\n",
    "    # 's5': '0',  # 0:不需輪班 256:輪班\n",
    "    # 'wktm': '1',  # (休假制度) 週休二日\n",
    "    # 'isnew': '0',  # (更新日期) 0:本日最新 3:三日內 7:一週內 14:兩週內 30:一個月內\n",
    "    # 'jobexp': '1,3,5,10,99',  # (經歷要求) 1年以下,1-3年,3-5年,5-10年,10年以上\n",
    "    # 'newZone': '1,2,3,4,5',  # (科技園區) 竹科,中科,南科,內湖,南港\n",
    "    # 'zone': '16',  # (公司類型) 16:上市上櫃 5:外商一般 4:外商資訊\n",
    "    # 'wf': '1,2,3,4,5,6,7,8,9,10',  # (福利制度) 年終獎金,三節獎金,員工旅遊,分紅配股,設施福利,休假福利,津貼/補助,彈性上下班,健康檢查,團體保險\n",
    "    # 'edu': '1,2,3,4,5,6',  # (學歷要求) 高中職以下,高中職,專科,大學,碩士,博士\n",
    "    # 'remoteWork': '1',  # (上班型態) 1:完全遠端 2:部分遠端\n",
    "    # 'excludeJobKeyword': '科技',  # 排除關鍵字\n",
    "    # 'kwop': '1',  # 只搜尋職務名稱\n",
    "    }"
   ]
  },
  {
   "cell_type": "code",
   "execution_count": 12,
   "metadata": {},
   "outputs": [],
   "source": [
    "total_count, jobs= job104_spider.search('python', max_nun=10, filter_params=filter_params)"
   ]
  },
  {
   "cell_type": "code",
   "execution_count": 13,
   "metadata": {},
   "outputs": [
    {
     "name": "stdout",
     "output_type": "stream",
     "text": [
      "搜尋結果職缺總數： 3387\n"
     ]
    }
   ],
   "source": [
    "print('搜尋結果職缺總數：', total_count)"
   ]
  },
  {
   "cell_type": "code",
   "execution_count": 14,
   "metadata": {},
   "outputs": [
    {
     "name": "stdout",
     "output_type": "stream",
     "text": [
      "[{'job_id': '7czt1', 'type': '1', 'name': 'Senior Backend Engineer', 'appear_date': '20220105', 'apply_num': 13, 'apply_text': '11~30人應徵', 'company_name': 'GoFreight_聖學科技股份有限公司', 'company_addr': '台北市中山區 民生東路三段2號7樓', 'job_url': 'https://www.104.com.tw/job/7czt1?jobsource=hotjob_chr', 'job_analyze_url': 'https://www.104.com.tw/jobs/apply/analysis/7czt1?channel=104rpt&jobsource=hotjob_chr', 'job_company_url': 'https://www.104.com.tw/company/1a2x6bj764?jobsource=hotjob_chr', 'lon': '121.5376925', 'lat': '25.0576494', 'education': '大學', 'period': '3年以上', 'salary': '年薪2,500,000~4,000,000元', 'salary_high': 2500000, 'salary_low': 4000000, 'tags': ['員工120人', '遠端工作']}, {'job_id': '76bsv', 'type': '1', 'name': '【PropTech數位人才招募】雲端數據工程師', 'appear_date': '20220105', 'apply_num': 4, 'apply_text': '0~5人應徵', 'company_name': '信義房屋股份有限公司', 'company_addr': '台北市信義區 信義路五段100號2樓(110)', 'job_url': 'https://www.104.com.tw/job/76bsv?jobsource=hotjob_chr', 'job_analyze_url': 'https://www.104.com.tw/jobs/apply/analysis/76bsv?channel=104rpt&jobsource=hotjob_chr', 'job_company_url': 'https://www.104.com.tw/company/a9pjy3k?jobsource=hotjob_chr', 'lon': '121.5655218', 'lat': '25.0326659', 'education': '大學', 'period': '3年以上', 'salary': '待遇面議', 'salary_high': 0, 'salary_low': 0, 'tags': ['上市上櫃', '員工5000人']}, {'job_id': '7am7x', 'type': '1', 'name': '【運維】網路管理工程師(不同班別各1至2名)', 'appear_date': '20220105', 'apply_num': 1, 'apply_text': '0~5人應徵', 'company_name': '帝群網路科技有限公司', 'company_addr': '台北市內湖區 瑞光路513巷26號5樓', 'job_url': 'https://www.104.com.tw/job/7am7x?jobsource=hotjob_chr', 'job_analyze_url': 'https://www.104.com.tw/jobs/apply/analysis/7am7x?channel=104rpt&jobsource=hotjob_chr', 'job_company_url': 'https://www.104.com.tw/company/1a2x6bk96w?jobsource=hotjob_chr', 'lon': '121.5696941', 'lat': '25.0797171', 'education': '專科', 'period': '經歷不拘', 'salary': '待遇面議', 'salary_high': 0, 'salary_low': 0, 'tags': []}, {'job_id': '7982k', 'type': '0', 'name': 'Python Web Developer', 'appear_date': '20211230', 'apply_num': 9, 'apply_text': '6~10人應徵', 'company_name': 'StreetVoice _街聲股份有限公司', 'company_addr': '台北市松山區 光復北路11巷35號11樓', 'job_url': 'https://www.104.com.tw/job/7982k?jobsource=jolist_d_relevance', 'job_analyze_url': 'https://www.104.com.tw/jobs/apply/analysis/7982k?channel=104rpt&jobsource=apply_analyze', 'job_company_url': 'https://www.104.com.tw/company/1a2x6bj3jr?jobsource=jolist_d_relevance', 'lon': '121.559898', 'lat': '25.050152', 'education': '大學', 'period': '1年以上', 'salary': '月薪40,000~60,000元', 'salary_high': 40000, 'salary_low': 60000, 'tags': ['員工50人']}, {'job_id': '7fbet', 'type': '0', 'name': 'python工程師', 'appear_date': '20211231', 'apply_num': 8, 'apply_text': '6~10人應徵', 'company_name': '英特拉金融科技股份有限公司', 'company_addr': '台北市大安區 潮州街108號5樓', 'job_url': 'https://www.104.com.tw/job/7fbet?jobsource=jolist_d_relevance', 'job_analyze_url': 'https://www.104.com.tw/jobs/apply/analysis/7fbet?channel=104rpt&jobsource=apply_analyze', 'job_company_url': 'https://www.104.com.tw/company/1a2x6bkus5?jobsource=jolist_d_relevance', 'lon': '121.5259941', 'lat': '25.0288157', 'education': '大學', 'period': '3年以上', 'salary': '待遇面議', 'salary_high': 0, 'salary_low': 0, 'tags': []}]\n"
     ]
    }
   ],
   "source": [
    "jobs = [job104_spider.search_job_transform(job) for job in jobs]\n",
    "print(jobs[:5])"
   ]
  },
  {
   "cell_type": "code",
   "execution_count": 8,
   "metadata": {},
   "outputs": [
    {
     "name": "stdout",
     "output_type": "stream",
     "text": [
      "{'corpImageRight': {'corpImageRight': {'imageUrl': 'https://static.104.com.tw/b_profile/cust_picture/8000/23060248000/custintroduce/image3.jpg?v=20201102190922', 'link': 'https://kad.events.104.com.tw/201023_familymart_rwd/index.html'}}, 'header': {'corpImageTop': {'imageUrl': 'https://static.104.com.tw/b_profile/cust_picture/8000/23060248000/custintroduce/image2.jpg?v=20201102190922', 'link': ''}, 'jobName': '數據分析專員', 'appearDate': '2022/01/05', 'custName': '全家便利商店股份有限公司', 'custUrl': 'https://www.104.com.tw/company/aldh58g', 'applyDate': '', 'analysisType': 1, 'analysisUrl': '//www.104.com.tw/jobs/apply/analysis/71gqf', 'isSaved': False, 'isApplied': False}, 'contact': {'hrName': '張小姐', 'email': '', 'visit': '', 'phone': '', 'other': '', 'reply': '', 'suggestExam': True}, 'environmentPic': {'environmentPic': [{'thumbnailLink': 'https://static.104.com.tw/b_profile/cust_picture/8000/23060248000/env/s_890328564410838386.jpg?v=20201102190922', 'link': 'https://static.104.com.tw/b_profile/cust_picture/8000/23060248000/env/l_890328564410838386.jpg?v=20201102190922', 'description': ''}, {'thumbnailLink': 'https://static.104.com.tw/b_profile/cust_picture/8000/23060248000/env/s_890328564410838385.jpg?v=20201102190922', 'link': 'https://static.104.com.tw/b_profile/cust_picture/8000/23060248000/env/l_890328564410838385.jpg?v=20201102190922', 'description': ''}, {'thumbnailLink': 'https://static.104.com.tw/b_profile/cust_picture/8000/23060248000/env/s_890328564410838384.jpg?v=20201102190922', 'link': 'https://static.104.com.tw/b_profile/cust_picture/8000/23060248000/env/l_890328564410838384.jpg?v=20201102190922', 'description': '全家訓練中心'}, {'thumbnailLink': 'https://static.104.com.tw/b_profile/cust_picture/8000/23060248000/env/s_890328564410838383.jpg?v=20201102190922', 'link': 'https://static.104.com.tw/b_profile/cust_picture/8000/23060248000/env/l_890328564410838383.jpg?v=20201102190922', 'description': '優質店鋪環境'}], 'corpImageBottom': {'imageUrl': 'https://static.104.com.tw/b_profile/cust_picture/8000/23060248000/custintroduce/image1.jpg?v=20201102190922', 'link': 'https://kad.events.104.com.tw/202005_FamilyMart/index.html'}}, 'condition': {'acceptRole': {'role': [{'code': 64, 'description': '原住民'}], 'disRole': {'needHandicapCompendium': False, 'disability': []}}, 'workExp': '3年以上', 'edu': '碩士以上', 'major': ['數理統計相關', '統計學相關', '應用數學相關'], 'language': [], 'localLanguage': [], 'specialty': [{'code': '12001003045', 'description': 'Python'}, {'code': '12001003078', 'description': 'R'}, {'code': '12001008003', 'description': 'Excel'}, {'code': '12001011001', 'description': 'Tableau'}, {'code': '12003005011', 'description': 'SPSS'}], 'skill': [{'code': '11002002003', 'description': '專案時間╱進度控管'}, {'code': '11002002005', 'description': '專案規劃執行╱範圍管理'}, {'code': '11005004004', 'description': '統計軟體操作'}], 'certificate': [], 'driverLicense': [], 'other': '統計軟體操作、專案規劃執行/範圍管理、專案溝通/整合管理、報告撰寫'}, 'welfare': {'tag': [], 'welfare': '【獎金/禮券類】\\r\\n年節獎金.績效獎金.三節禮券.勞動節禮券.中秋禮品.證照獎金.管理獎金.推薦獎金.研發專利獎金\\r\\n【保險類 】\\r\\n勞保.健保.員工團保.眷屬團保.職災保險\\r\\n【請/休假制度】\\r\\n特休假.生日假.陪產假.家庭照顧假.生產假.安胎育嬰假.生理假.事假.病假.喪假.婚假\\r\\n【休閒類】\\r\\n年度聚餐.部門旅遊.社團活動.年終尾牙摸彩.全家日親子活動.企業電影日\\r\\n【補助類】\\r\\n國內外旅遊.婚喪喜慶.生育補助.子女教育補助.職退金提撥.緊急救難協助.\\r\\n【設施類】\\r\\n育嬰保健室. 醫師駐廠健康諮詢(總部).全員健康檢查.企業按摩師(總部及營業部).圖書館.特約托兒所.\\r\\n【教育資源】\\r\\n全家企業大學-CVS學院、餐飲學院、員工進修學院、標竿學院.全家數位學習網.員工職涯輪調計畫.人文學習補助.外訓補助\\r\\n【※上述福利制度僅適用於全家便利商店股份有限公司正職員工※】', 'legalTag': []}, 'jobDetail': {'jobDescription': '【工作內容】\\n1.透過經營數據分析，找出關鍵問題、並提供策略性建議。\\n2.建置預測模型、視覺化數據分析結果、簡報撰寫\\n3.內外部資料/發票運用與分析\\n4.跨部門數據專案管理與推動\\n\\n【工作技能條件】\\n1.會使用SPSS Modeler者優先錄取\\n2.有虛實零售產業營運或經營分析經驗者優先面試(例如超市、量販、藥妝、百貨、電商等)\\n3.熟悉統計理論，數值邏輯能力佳、具備商業數據分析實際經驗\\n4.熟悉資料分析、統計模型，擅長簡報製作\\n5.熟悉統計軟體(Python、R)或視覺化軟體(Tableau)尤佳\\n6.擅長溝通、個性主動積極、細心', 'jobCategory': [{'code': '2004001010', 'description': '市場調查／市場分析'}, {'code': '2016001007', 'description': '統計學研究員'}, {'code': '2007002002', 'description': '資料庫管理人員'}], 'salary': '月薪39,000~42,000元', 'salaryMin': 39000, 'salaryMax': 42000, 'salaryType': 50, 'jobType': 1, 'workType': [], 'addressNo': '6001001003', 'addressRegion': '台北市中山區', 'addressDetail': '中山北路二段61號7樓', 'industryArea': '', 'longitude': '121.522992', 'latitude': '25.0561769', 'manageResp': '不需負擔管理責任', 'businessTrip': '無需出差外派', 'workPeriod': '日班，0900-1800', 'vacationPolicy': '週休二日', 'startWorkingDay': '一個月內', 'hireType': 0, 'delegatedRecruit': '', 'needEmp': '1人', 'landmark': '距捷運雙連站290公尺', 'remoteWork': None}, 'switch': 'on', 'custLogo': 'https://static.104.com.tw/b_profile/cust_picture/8000/23060248000/logo.png?v=20201102190922', 'postalCode': '104', 'closeDate': '', 'industry': '量販流通相關業', 'custNo': '23060248000', 'reportUrl': 'https://www.104.com.tw/question_admin/reaction.cfm?j=5165472d3d4b435b36373f6857333c6643d65487045614326262626233e43432a735j49', 'industryNo': '1003002014', 'employees': '5000人', 'chinaCorp': False}\n"
     ]
    }
   ],
   "source": [
    "job_info = job104_spider.get_job('71gqf')\n",
    "print(job_info)"
   ]
  },
  {
   "cell_type": "code",
   "execution_count": null,
   "metadata": {},
   "outputs": [],
   "source": []
  }
 ],
 "metadata": {
  "kernelspec": {
   "display_name": "Python 3",
   "language": "python",
   "name": "python3"
  },
  "language_info": {
   "codemirror_mode": {
    "name": "ipython",
    "version": 3
   },
   "file_extension": ".py",
   "mimetype": "text/x-python",
   "name": "python",
   "nbconvert_exporter": "python",
   "pygments_lexer": "ipython3",
   "version": "3.7.6"
  }
 },
 "nbformat": 4,
 "nbformat_minor": 4
}
