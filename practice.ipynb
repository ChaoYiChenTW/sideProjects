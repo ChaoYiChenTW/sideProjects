{
 "cells": [
  {
   "cell_type": "raw",
   "metadata": {},
   "source": [
    "source\n",
    "1. https://blog.jiatool.com/posts/job104_spider/\n",
    "2. https://p4css.github.io/R4CSS_TA/AS07_Web-Scraping-JSON_ref.html\n",
    "3. https://tlyu0419.github.io/2020/06/19/Crawler-104HumanResource/\n",
    "4. https://github.com/SuYenTing/Python-web-crawler"
   ]
  },
  {
   "cell_type": "code",
   "execution_count": 1,
   "metadata": {},
   "outputs": [],
   "source": [
    "import time\n",
    "import random\n",
    "import requests"
   ]
  },
  {
   "cell_type": "code",
   "execution_count": 2,
   "metadata": {},
   "outputs": [],
   "source": [
    "class Job104Spider():\n",
    "    def search(self, keyword, max_nun=10, filter_params=None, sort_type='符合度', is_sort_asc=False):\n",
    "        # 產生搜尋結果\n",
    "        jobs = []\n",
    "        total_count = 0\n",
    "\n",
    "        url = 'https://www.104.com.tw/jobs/search/list'\n",
    "        # 這個url不是從網址來的，要到F12>XHR>Headers中查找，所以一定要最後面的list\n",
    "        query = f'ro=0&kwop=7&keyword={keyword}&expansionType=area,spec,com,job,wf,wktm&mode=s&jobsource=2018indexpoc'\n",
    "        if filter_params:\n",
    "            # 加上篩選參數，要先轉換為 URL 參數字串格式\n",
    "            query += ''.join([f'&{key}={value}' for key, value, in filter_params.items()])\n",
    "            \n",
    "        # 加上排序條件\n",
    "        sort_dict = {\n",
    "            '符合度': '1',\n",
    "            '日期': '2',\n",
    "            '經歷': '3',\n",
    "            '學歷': '4',\n",
    "            '應徵人數': '7',\n",
    "            '待遇': '13',\n",
    "        }\n",
    "        \n",
    "        # 結果排序\n",
    "        sort_params = f\"&order={sort_dict.get(sort_type, '1')}\"\n",
    "        sort_params += '&asc=1' if is_sort_asc else '&asc=0'\n",
    "        query += sort_params\n",
    "            \n",
    "        # 設定headers，偽裝成真人搜尋，避免被網頁偵測到\n",
    "        headers = {\n",
    "            'User-Agent': 'Mozilla/5.0 (Windows NT 10.0; Win64; x64) AppleWebKit/537.36 (KHTML, like Gecko) Chrome/81.0.4044.92 Safari/537.36',\n",
    "            'Referer': 'https://www.104.com.tw/jobs/search/',\n",
    "        }\n",
    "        \n",
    "        page = 1\n",
    "        while len(jobs) < max_nun:\n",
    "            params = f'{query}&page={page}'\n",
    "            r = requests.get(url, params=params, headers=headers)\n",
    "            if r.status_code != requests.codes.ok:\n",
    "                print('請求失敗', r.status_code)\n",
    "                data = r.json()\n",
    "                print(data['status'], data['statusMsg'], data['errorMsg'])\n",
    "                break\n",
    "\n",
    "            data = r.json()\n",
    "            total_count = data['data']['totalCount']\n",
    "            jobs.extend(data['data']['list'])\n",
    "\n",
    "            if (page == data['data']['totalPage']) or (data['data']['totalPage'] == 0):\n",
    "                break\n",
    "            page += 1\n",
    "            time.sleep(random.uniform(3, 5))\n",
    "\n",
    "        return total_count, jobs[:max_nun]\n",
    "    \n",
    "    def get_job(self):\n",
    "        # 查看搜尋結果詳情\n",
    "        pass\n",
    "    \n",
    "    def search_job_transform(self):\n",
    "        # 轉換格式\n",
    "        pass"
   ]
  },
  {
   "cell_type": "code",
   "execution_count": 3,
   "metadata": {},
   "outputs": [],
   "source": [
    "job104_spider = Job104Spider()"
   ]
  },
  {
   "cell_type": "code",
   "execution_count": 4,
   "metadata": {},
   "outputs": [],
   "source": [
    "filter_params = {\n",
    "    'area': '6001001000,6001016000',  # (地區) 台北市,高雄市\n",
    "    # 's9': '1,2,4,8',  # (上班時段) 日班,夜班,大夜班,假日班\n",
    "    # 's5': '0',  # 0:不需輪班 256:輪班\n",
    "    # 'wktm': '1',  # (休假制度) 週休二日\n",
    "    # 'isnew': '0',  # (更新日期) 0:本日最新 3:三日內 7:一週內 14:兩週內 30:一個月內\n",
    "    # 'jobexp': '1,3,5,10,99',  # (經歷要求) 1年以下,1-3年,3-5年,5-10年,10年以上\n",
    "    # 'newZone': '1,2,3,4,5',  # (科技園區) 竹科,中科,南科,內湖,南港\n",
    "    # 'zone': '16',  # (公司類型) 16:上市上櫃 5:外商一般 4:外商資訊\n",
    "    # 'wf': '1,2,3,4,5,6,7,8,9,10',  # (福利制度) 年終獎金,三節獎金,員工旅遊,分紅配股,設施福利,休假福利,津貼/補助,彈性上下班,健康檢查,團體保險\n",
    "    # 'edu': '1,2,3,4,5,6',  # (學歷要求) 高中職以下,高中職,專科,大學,碩士,博士\n",
    "    # 'remoteWork': '1',  # (上班型態) 1:完全遠端 2:部分遠端\n",
    "    # 'excludeJobKeyword': '科技',  # 排除關鍵字\n",
    "    # 'kwop': '1',  # 只搜尋職務名稱\n",
    "    }"
   ]
  },
  {
   "cell_type": "code",
   "execution_count": 5,
   "metadata": {},
   "outputs": [],
   "source": [
    "total_count, jobs= job104_spider.search('python', max_nun=10, filter_params=filter_params)"
   ]
  },
  {
   "cell_type": "code",
   "execution_count": 6,
   "metadata": {},
   "outputs": [
    {
     "name": "stdout",
     "output_type": "stream",
     "text": [
      "3406\n"
     ]
    }
   ],
   "source": [
    "print(total_count)"
   ]
  },
  {
   "cell_type": "code",
   "execution_count": 10,
   "metadata": {},
   "outputs": [
    {
     "name": "stdout",
     "output_type": "stream",
     "text": [
      "[{'jobType': '1', 'jobNo': '12426242', 'jobName': '電子商務 前端工程師(Web engineer)', 'jobNameSnippet': '電子商務 前端工程師(Web engineer)', 'jobRole': '1', 'jobRo': '1', 'jobAddrNo': '6001001004', 'jobAddrNoDesc': '台北市松山區', 'jobAddress': '復興北路369號6樓', 'description': '[職務說明]\\n - CAFE24服務之網站管理 /製作 /維護 \\n - 構建解決方案及營運維護\\n - 其他主管交代事項\\n\\n[必要條件]\\n - Html5, css3, javascript, Jquery, \\n - 對網站/行動裝置 UI 有興趣\\n - 響應式網頁的製作經驗\\n - RESTful API 經驗\\n - 具備組織中換位思考及良好的溝通能力\\n - 樂觀積極的處事態度\\n - 附上作品集\\n - 通韓文/英文 者佳\\n\\n[加分條件]\\n - PL 經驗\\n - 網頁框架經驗 (vue, react, angular 等)\\n - 後端經驗 (php/python/nodejs 等)\\n - 資料分析撰寫能力', 'optionEdu': '大學', 'period': '00', 'periodDesc': '經歷不拘', 'applyCnt': '00015', 'applyDesc': '11~30人應徵', 'custNo': '130000000063000', 'custName': '韓商咖菲二十四貿易有限公司台灣分公司', 'coIndustry': '', 'coIndustryDesc': '', 'salaryLow': '0035000', 'salaryHigh': '9999999', 'salaryDesc': '月薪35,000元以上', 's10': '50', 'appearDate': '20211220', 'appearDateDesc': '12/20', 'optionZone': '0', 'isApply': '0', 'applyDate': '', 'isSave': '0', 'descSnippet': '[職務說明]\\n - CAFE24服務之網站管理 /製作 /維護 \\n - 構建解決方案及營運維護\\n - 其他主管交代事項\\n\\n[必要條件]\\n - Html5, css3, javascript, Jquery, \\n - 對網站/行動裝置 UI 有興趣\\n - 響應式網頁的製作經驗\\n - RESTful API 經驗\\n - 具備組織中換位思考及良好的溝通能力\\n - 樂觀積極的處事態度\\n - 附上作品集\\n - 通韓文/英文 者佳\\n\\n[加分條件]\\n - PL 經驗\\n - 網頁框架經驗 (vue, react, angular 等)\\n - 後端經驗 (php/python/nodejs 等)\\n - 資料分析撰寫能力', 'tags': ['員工19人'], 'landmark': '距捷運中山國中站220公尺', 'link': {'applyAnalyze': '//www.104.com.tw/jobs/apply/analysis/7ec5e?channel=104rpt&jobsource=hotjob_chr', 'job': '//www.104.com.tw/job/7ec5e?jobsource=hotjob_chr', 'cust': '//www.104.com.tw/company/1a2x6bjbx4?jobsource=hotjob_chr'}, 'jobsource': 'hotjob_chr', 'jobNameRaw': '電子商務 前端工程師(Web engineer)', 'custNameRaw': '韓商咖菲二十四貿易有限公司台灣分公司', 'lon': '121.5447579', 'lat': '25.0626001', 'remoteWorkType': 0}, {'jobType': '1', 'jobNo': '11798233', 'jobName': '(Sr.)Site Reliability Engineer 網站可靠性工程師', 'jobNameSnippet': '(Sr.)Site Reliability Engineer 網站可靠性工程師', 'jobRole': '1', 'jobRo': '1', 'jobAddrNo': '6001001003', 'jobAddrNoDesc': '台北市中山區', 'jobAddress': '', 'description': ' 1、負責診斷和解決線上事故，網路回應延遲和應用回應延遲等問題。\\n2、日常分析軟體、網路、應用等監控資訊及時發現和診斷系統可靠性問題。\\n3、與開發團隊緊密協作，故障排查，解決應用和服務的問題。\\n4、使用Jenkins、Ansible、Gitlab等，完成生產環境的持續部署任務。\\n5、負責遊戲運維工作，諸如日常維護、故障定位恢復等。\\n6、持續的創新和優化能力，提升業務SLA，健壯高可用架構。\\n7、編寫適合運維的Shell、Python腳本。\\n\\n加分條件\\n1、三年以上運維工作經驗\\n2、工作積極主動，有獨立思考能力，可承擔較大的工作壓力。\\n3、對產品架構及業務有一定優化的能力，可獨立完成產品的日常維護工作。\\n4、可熟練使用公有雲私有雲環境進行作業，熟悉CDN及DNS工作原理並且可熟練部署常用CDN。\\n6、對高可用、容災有一定見解，熟練使用Nginx、Tomcat、MySQL、Redis、Zabbix、Ansible等常用應用程式。\\n7、熟練使用Shell或Python語言進行腳本編寫。\\n8&#039; 瞭解容器化，懂得K8S工作原理。\\n\\n*上述條件非都必備,須熟悉linux,其他看情況可培養', 'optionEdu': '大學', 'period': '00', 'periodDesc': '經歷不拘', 'applyCnt': '00002', 'applyDesc': '0~5人應徵', 'custNo': '130000000152439', 'custName': '紅石資訊有限公司', 'coIndustry': '', 'coIndustryDesc': '', 'salaryLow': '0080000', 'salaryHigh': '9999999', 'salaryDesc': '月薪80,000元以上', 's10': '50', 'appearDate': '20211220', 'appearDateDesc': '12/20', 'optionZone': '4096', 'isApply': '0', 'applyDate': '', 'isSave': '0', 'descSnippet': ' 1、負責診斷和解決線上事故，網路回應延遲和應用回應延遲等問題。\\n2、日常分析軟體、網路、應用等監控資訊及時發現和診斷系統可靠性問題。\\n3、與開發團隊緊密協作，故障排查，解決應用和服務的問題。\\n4、使用Jenkins、Ansible、Gitlab等，完成生產環境的持續部署任務。\\n5、負責遊戲運維工作，諸如日常維護、故障定位恢復等。\\n6、持續的創新和優化能力，提升業務SLA，健壯高可用架構。\\n7、編寫適合運維的Shell、Python腳本。\\n\\n加分條件\\n1、三年以上運維工作經驗\\n2、工作積極主動，有獨立思考能力，可承擔較大的工作壓力。\\n3、對產品架構及業務有一定優化的能力，可獨立完成產品的日常維護工作。\\n4、可熟練使用公有雲私有雲環境進行作業，熟悉CDN及DNS工作原理並且可熟練部署常用CDN。\\n6、對高可用、容災有一定見解，熟練使用Nginx、Tomcat、MySQL、Redis、Zabbix、Ansible等常用應用程式。\\n7、熟練使用Shell或Python語言進行腳本編寫。\\n8&#039; 瞭解容器化，懂得K8S工作原理。\\n\\n*上述條件非都必備,須熟悉linux,其他看情況可培養', 'tags': ['員工60人'], 'landmark': '', 'link': {'applyAnalyze': '//www.104.com.tw/jobs/apply/analysis/70vkp?channel=104rpt&jobsource=hotjob_chr', 'job': '//www.104.com.tw/job/70vkp?jobsource=hotjob_chr', 'cust': '//www.104.com.tw/company/1a2x6bl8xj?jobsource=hotjob_chr'}, 'jobsource': 'hotjob_chr', 'jobNameRaw': '(Sr.)Site Reliability Engineer 網站可靠性工程師', 'custNameRaw': '紅石資訊有限公司', 'lon': '121.5427093', 'lat': '25.0792018', 'remoteWorkType': 0}, {'jobType': '0', 'jobNo': '12187676', 'jobName': 'Python Web Developer', 'jobNameSnippet': \"<em class='b-txt--highlight'>Python</em> Web Developer\", 'jobRole': '1', 'jobRo': '1', 'jobAddrNo': '6001001004', 'jobAddrNoDesc': '台北市松山區', 'jobAddress': '光復北路11巷35號11樓', 'description': '開發派歌網站系統，主要針對音樂人以及業務管理端的使用者介面、流程進行開發及修改，持續優化。工作上使用 [[[Python]]] / Django 以及 jQuery。 除了上述開發以外，其他工作內容如下:\\n\\n能力需求：\\n\\n需求及功能分析\\n與其他同事互相進行', 'optionEdu': '大學', 'period': '02', 'periodDesc': '1年以上', 'applyCnt': '00011', 'applyDesc': '11~30人應徵', 'custNo': '130000000052151', 'custName': 'StreetVoice _街聲股份有限公司', 'coIndustry': '1001001003', 'coIndustryDesc': '網際網路相關業', 'salaryLow': '0040000', 'salaryHigh': '0060000', 'salaryDesc': '月薪40,000~60,000元', 's10': '50', 'appearDate': '20211222', 'appearDateDesc': '12/22', 'optionZone': '0', 'isApply': '0', 'applyDate': '', 'isSave': '0', 'descSnippet': \"開發派歌網站系統，主要針對音樂人以及業務管理端的使用者介面、流程進行開發及修改，持續優化。工作上使用 <em class='b-txt--highlight'>Python</em> / Django 以及 jQuery。 除了上述開發以外，其他工作內容如下:\\n\\n能力需求：\\n\\n需求及功能分析\\n與其他同事互相進行\", 'tags': ['員工50人'], 'landmark': '距捷運南京三民站420公尺', 'link': {'applyAnalyze': '//www.104.com.tw/jobs/apply/analysis/7982k?channel=104rpt&jobsource=apply_analyze', 'job': '//www.104.com.tw/job/7982k?jobsource=jolist_c_relevance', 'cust': '//www.104.com.tw/company/1a2x6bj3jr?jobsource=jolist_c_relevance'}, 'jobsource': 'jolist_c_relevance', 'jobNameRaw': 'Python Web Developer', 'custNameRaw': 'StreetVoice _街聲股份有限公司', 'lon': '121.559898', 'lat': '25.050152', 'remoteWorkType': 0}, {'jobType': '0', 'jobNo': '12471941', 'jobName': 'python工程師', 'jobNameSnippet': \"<em class='b-txt--highlight'>python</em>工程師\", 'jobRole': '1', 'jobRo': '1', 'jobAddrNo': '6001001005', 'jobAddrNoDesc': '台北市大安區', 'jobAddress': '潮州街108號5樓', 'description': '工作內容： \\r\\n1. [[[Python]]]維運及系統開發\\r\\n2.熟悉[[[Python]]]語言\\r\\n3.既有程式優化及修正並開發新功能 \\r\\n4.撰寫API文件\\r\\n5.規劃執行軟體架構及模組之設計\\r\\n6.具備 Git 版本管控 (GitLab)使用經驗\\r\\n7.具備', 'optionEdu': '大學', 'period': '04', 'periodDesc': '3年以上', 'applyCnt': '00012', 'applyDesc': '11~30人應徵', 'custNo': '130000000134101', 'custName': '英特拉金融科技股份有限公司', 'coIndustry': '1001003003', 'coIndustryDesc': '消費性電子產品製造業', 'salaryLow': '0000000', 'salaryHigh': '0000000', 'salaryDesc': '待遇面議', 's10': '10', 'appearDate': '20211217', 'appearDateDesc': '12/17', 'optionZone': '0', 'isApply': '0', 'applyDate': '', 'isSave': '0', 'descSnippet': \"工作內容： \\r\\n1. <em class='b-txt--highlight'>Python</em>維運及系統開發\\r\\n2.熟悉<em class='b-txt--highlight'>Python</em>語言\\r\\n3.既有程式優化及修正並開發新功能 \\r\\n4.撰寫API文件\\r\\n5.規劃執行軟體架構及模組之設計\\r\\n6.具備 Git 版本管控 (GitLab)使用經驗\\r\\n7.具備\", 'tags': [], 'landmark': '距捷運古亭站410公尺', 'link': {'applyAnalyze': '//www.104.com.tw/jobs/apply/analysis/7fbet?channel=104rpt&jobsource=apply_analyze', 'job': '//www.104.com.tw/job/7fbet?jobsource=jolist_c_relevance', 'cust': '//www.104.com.tw/company/1a2x6bkus5?jobsource=jolist_c_relevance'}, 'jobsource': 'jolist_c_relevance', 'jobNameRaw': 'python工程師', 'custNameRaw': '英特拉金融科技股份有限公司', 'lon': '121.5259941', 'lat': '25.0288157', 'remoteWorkType': 0}, {'jobType': '0', 'jobNo': '10039869', 'jobName': 'Python Engineer', 'jobNameSnippet': \"<em class='b-txt--highlight'>Python</em> Engineer\", 'jobRole': '1', 'jobRo': '1', 'jobAddrNo': '6001001010', 'jobAddrNoDesc': '台北市內湖區', 'jobAddress': '民權東路三段142號5樓506室', 'description': '1.具備[[[Python]]]實務專案經驗\\n2.有Vue開發框架佳\\n3.太陽能系統開發\\n4.主動性強、樂與團隊互動討論\\n5.須配合客戶端駐點\\n', 'optionEdu': '高中', 'period': '00', 'periodDesc': '經歷不拘', 'applyCnt': '00001', 'applyDesc': '0~5人應徵', 'custNo': '25146875000', 'custName': '億力資訊股份有限公司', 'coIndustry': '1001001002', 'coIndustryDesc': '電腦軟體服務業', 'salaryLow': '0000000', 'salaryHigh': '0000000', 'salaryDesc': '待遇面議', 's10': '10', 'appearDate': '20211223', 'appearDateDesc': '12/23', 'optionZone': '0', 'isApply': '0', 'applyDate': '', 'isSave': '0', 'descSnippet': \"1.具備<em class='b-txt--highlight'>Python</em>實務專案經驗\\n2.有Vue開發框架佳\\n3.太陽能系統開發\\n4.主動性強、樂與團隊互動討論\\n5.須配合客戶端駐點\\n\", 'tags': ['員工180人'], 'landmark': '', 'link': {'applyAnalyze': '//www.104.com.tw/jobs/apply/analysis/5z6t9?channel=104rpt&jobsource=apply_analyze', 'job': '//www.104.com.tw/job/5z6t9?jobsource=jolist_c_relevance', 'cust': '//www.104.com.tw/company/bjvssxk?jobsource=jolist_c_relevance'}, 'jobsource': 'jolist_c_relevance', 'jobNameRaw': 'Python Engineer', 'custNameRaw': '億力資訊股份有限公司', 'lon': '121.5470823', 'lat': '25.0617126', 'remoteWorkType': 0}, {'jobType': '2', 'jobNo': '12277919', 'jobName': 'Python Software Engineer', 'jobNameSnippet': \"<em class='b-txt--highlight'>Python</em> Software Engineer\", 'jobRole': '1', 'jobRo': '1', 'jobAddrNo': '6001001001', 'jobAddrNoDesc': '台北市中正區', 'jobAddress': '許昌街42號10樓', 'description': '用者介面設計、後端的演算法邏輯及大數據資料庫等。身為『[[[Python]]] Software Engineer』，我們需要你協助開發設計後端系統及運作邏輯，做到更進一步演算分析，並開發大數據資料庫，以協助店家在飲品選擇與銷售上更具優勢。\\n\\n- 開發智慧物聯', 'optionEdu': '大學', 'period': '02', 'periodDesc': '1年以上', 'applyCnt': '00004', 'applyDesc': '0~5人應徵', 'custNo': '130000000125920', 'custName': '百睿達有限公司', 'coIndustry': '1002012001', 'coIndustryDesc': '自動控制相關業', 'salaryLow': '0070000', 'salaryHigh': '0100000', 'salaryDesc': '月薪70,000~100,000元', 's10': '50', 'appearDate': '20211223', 'appearDateDesc': '12/23', 'optionZone': '4096', 'isApply': '0', 'applyDate': '', 'isSave': '0', 'descSnippet': \"用者介面設計、後端的演算法邏輯及大數據資料庫等。身為『<em class='b-txt--highlight'>Python</em> Software Engineer』，我們需要你協助開發設計後端系統及運作邏輯，做到更進一步演算分析，並開發大數據資料庫，以協助店家在飲品選擇與銷售上更具優勢。\\n\\n- 開發智慧物聯\", 'tags': ['員工35人'], 'landmark': '距捷運台北車站320公尺', 'link': {'applyAnalyze': '//www.104.com.tw/jobs/apply/analysis/7b5pb?channel=104rpt&jobsource=apply_analyze', 'job': '//www.104.com.tw/job/7b5pb?jobsource=jolist_c_relevance', 'cust': '//www.104.com.tw/company/1a2x6bkogw?jobsource=jolist_c_relevance'}, 'jobsource': 'jolist_c_relevance', 'jobNameRaw': 'Python Software Engineer', 'custNameRaw': '百睿達有限公司', 'lon': '121.515418', 'lat': '25.0453306', 'remoteWorkType': 0}, {'jobType': '0', 'jobNo': '11625402', 'jobName': 'Python Developer', 'jobNameSnippet': \"<em class='b-txt--highlight'>Python</em> Developer\", 'jobRole': '1', 'jobRo': '1', 'jobAddrNo': '6001001005', 'jobAddrNoDesc': '台北市大安區', 'jobAddress': '', 'description': '1. 協助完善自然語言處理框架\\r\\n2. 協助建置自然語言處理各功能的的自動化測試(未來預計導入CI／CD流程)\\r\\n3. 協助將組內的研究團隊成果加入公司的自然語言處理框架\\r\\n4. 協助與合作夥伴的產品整合規劃', 'optionEdu': '大學', 'period': '02', 'periodDesc': '1年以上', 'applyCnt': '00003', 'applyDesc': '0~5人應徵', 'custNo': '130000000113373', 'custName': '文境資科股份有限公司', 'coIndustry': '1008003007', 'coIndustryDesc': '專門設計相關業', 'salaryLow': '0035000', 'salaryHigh': '9999999', 'salaryDesc': '月薪35,000元以上', 's10': '50', 'appearDate': '20211222', 'appearDateDesc': '12/22', 'optionZone': '0', 'isApply': '0', 'applyDate': '', 'isSave': '0', 'descSnippet': '1. 協助完善自然語言處理框架\\r\\n2. 協助建置自然語言處理各功能的的自動化測試(未來預計導入CI／CD流程)\\r\\n3. 協助將組內的研究團隊成果加入公司的自然語言處理框架\\r\\n4. 協助與合作夥伴的產品整合規劃', 'tags': ['員工30人'], 'landmark': '', 'link': {'applyAnalyze': '//www.104.com.tw/jobs/apply/analysis/6x67u?channel=104rpt&jobsource=apply_analyze', 'job': '//www.104.com.tw/job/6x67u?jobsource=jolist_c_relevance', 'cust': '//www.104.com.tw/company/1a2x6bkesd?jobsource=jolist_c_relevance'}, 'jobsource': 'jolist_c_relevance', 'jobNameRaw': 'Python Developer', 'custNameRaw': '文境資科股份有限公司', 'lon': '121.5433783', 'lat': '25.0249441', 'remoteWorkType': 0}, {'jobType': '2', 'jobNo': '11840160', 'jobName': 'python工程師', 'jobNameSnippet': \"<em class='b-txt--highlight'>python</em>工程師\", 'jobRole': '1', 'jobRo': '1', 'jobAddrNo': '6001001010', 'jobAddrNoDesc': '台北市內湖區', 'jobAddress': '石潭路151號', 'description': '助專案架構設計\\n\\n職務需求：\\n1.熟悉 Flask 框架\\n2.熟悉 Git 開發管理專案\\n3.熟悉 SQL 及 MongoDB 資料庫\\n4.熟悉 ML 相關知識\\n5.熟悉[[[Python]]]程式語言，包含Pandas, Numpy, Sklearn,', 'optionEdu': '專科', 'period': '02', 'periodDesc': '1年以上', 'applyCnt': '00013', 'applyDesc': '11~30人應徵', 'custNo': '86147849000', 'custName': '雄獅資訊科技股份有限公司', 'coIndustry': '1001001002', 'coIndustryDesc': '電腦軟體服務業', 'salaryLow': '0000000', 'salaryHigh': '0000000', 'salaryDesc': '待遇面議', 's10': '10', 'appearDate': '20211222', 'appearDateDesc': '12/22', 'optionZone': '4096', 'isApply': '0', 'applyDate': '', 'isSave': '0', 'descSnippet': \"助專案架構設計\\n\\n職務需求：\\n1.熟悉 Flask 框架\\n2.熟悉 Git 開發管理專案\\n3.熟悉 SQL 及 MongoDB 資料庫\\n4.熟悉 ML 相關知識\\n5.熟悉<em class='b-txt--highlight'>Python</em>程式語言，包含Pandas, Numpy, Sklearn,\", 'tags': ['員工206人'], 'landmark': '', 'link': {'applyAnalyze': '//www.104.com.tw/jobs/apply/analysis/71rxc?channel=104rpt&jobsource=apply_analyze', 'job': '//www.104.com.tw/job/71rxc?jobsource=jolist_c_relevance', 'cust': '//www.104.com.tw/company/13kq7dpk?jobsource=jolist_c_relevance'}, 'jobsource': 'jolist_c_relevance', 'jobNameRaw': 'python工程師', 'custNameRaw': '雄獅資訊科技股份有限公司', 'lon': '121.589035', 'lat': '25.0641327', 'remoteWorkType': 0}, {'jobType': '0', 'jobNo': '12259589', 'jobName': 'python工程師', 'jobNameSnippet': \"<em class='b-txt--highlight'>python</em>工程師\", 'jobRole': '1', 'jobRo': '1', 'jobAddrNo': '6001001003', 'jobAddrNoDesc': '台北市中山區', 'jobAddress': '松江路111號11樓之1', 'description': '投資及多家銀行合作，是未來的AI金融科技獨角獸，後端工程師除了能開發最真實的金融服務系統，更有機會走在台灣金融科技的前緣，工作內容為開發 [[[Python]]] 相關子系統，如爬蟲、自動化系統等。\\n\\n希望你加入我們一起成長，用專業的技術一起為台灣金融科技產業', 'optionEdu': '專科', 'period': '02', 'periodDesc': '1年以上', 'applyCnt': '00008', 'applyDesc': '6~10人應徵', 'custNo': '130000000117516', 'custName': '普匯金融科技股份有限公司', 'coIndustry': '1001001002', 'coIndustryDesc': '電腦軟體服務業', 'salaryLow': '0000000', 'salaryHigh': '0000000', 'salaryDesc': '待遇面議', 's10': '10', 'appearDate': '20211222', 'appearDateDesc': '12/22', 'optionZone': '0', 'isApply': '0', 'applyDate': '', 'isSave': '0', 'descSnippet': \"投資及多家銀行合作，是未來的AI金融科技獨角獸，後端工程師除了能開發最真實的金融服務系統，更有機會走在台灣金融科技的前緣，工作內容為開發 <em class='b-txt--highlight'>Python</em> 相關子系統，如爬蟲、自動化系統等。\\n\\n希望你加入我們一起成長，用專業的技術一起為台灣金融科技產業\", 'tags': ['員工20人'], 'landmark': '距捷運松江南京站90公尺', 'link': {'applyAnalyze': '//www.104.com.tw/jobs/apply/analysis/7ark5?channel=104rpt&jobsource=apply_analyze', 'job': '//www.104.com.tw/job/7ark5?jobsource=jolist_c_relevance', 'cust': '//www.104.com.tw/company/1a2x6bkhzg?jobsource=jolist_c_relevance'}, 'jobsource': 'jolist_c_relevance', 'jobNameRaw': 'python工程師', 'custNameRaw': '普匯金融科技股份有限公司', 'lon': '121.5332487', 'lat': '25.0513269', 'remoteWorkType': 0}, {'jobType': '0', 'jobNo': '11896429', 'jobName': 'Python網站工程師', 'jobNameSnippet': \"<em class='b-txt--highlight'>Python</em>網站工程師\", 'jobRole': '1', 'jobRo': '1', 'jobAddrNo': '6001001005', 'jobAddrNoDesc': '台北市大安區', 'jobAddress': '信義路四段55號2樓之1', 'description': '-[[[Python]]] 監控與維運系統開發\\n-熟悉[[[Python]]]編程語言\\n-設計編寫API\\n-系統維運\\n-技術文件撰寫\\n\\n【職務條件】\\n-具有 Git 版本控制相關知識\\n-熟悉 Linux 基本常見指令\\n-可獨立或與團隊合作，工作態度積極、負責，能配合公司', 'optionEdu': '專科', 'period': '04', 'periodDesc': '3年以上', 'applyCnt': '00006', 'applyDesc': '6~10人應徵', 'custNo': '130000000158220', 'custName': '學力創意股份有限公司', 'coIndustry': '1001001006', 'coIndustryDesc': '其它軟體及網路相關業', 'salaryLow': '0000000', 'salaryHigh': '0000000', 'salaryDesc': '待遇面議', 's10': '10', 'appearDate': '20211216', 'appearDateDesc': '12/16', 'optionZone': '0', 'isApply': '0', 'applyDate': '', 'isSave': '0', 'descSnippet': \"-<em class='b-txt--highlight'>Python</em> 監控與維運系統開發\\n-熟悉<em class='b-txt--highlight'>Python</em>編程語言\\n-設計編寫API\\n-系統維運\\n-技術文件撰寫\\n\\n【職務條件】\\n-具有 Git 版本控制相關知識\\n-熟悉 Linux 基本常見指令\\n-可獨立或與團隊合作，工作態度積極、負責，能配合公司\", 'tags': ['員工17人'], 'landmark': '距捷運大安站180公尺', 'link': {'applyAnalyze': '//www.104.com.tw/jobs/apply/analysis/72zcd?channel=104rpt&jobsource=apply_analyze', 'job': '//www.104.com.tw/job/72zcd?jobsource=jolist_c_relevance', 'cust': '//www.104.com.tw/company/1a2x6blde4?jobsource=jolist_c_relevance'}, 'jobsource': 'jolist_c_relevance', 'jobNameRaw': 'Python網站工程師', 'custNameRaw': '學力創意股份有限公司', 'lon': '121.5452738', 'lat': '25.0335405', 'remoteWorkType': 0}]\n"
     ]
    }
   ],
   "source": [
    "print(jobs)"
   ]
  }
 ],
 "metadata": {
  "kernelspec": {
   "display_name": "Python 3",
   "language": "python",
   "name": "python3"
  },
  "language_info": {
   "codemirror_mode": {
    "name": "ipython",
    "version": 3
   },
   "file_extension": ".py",
   "mimetype": "text/x-python",
   "name": "python",
   "nbconvert_exporter": "python",
   "pygments_lexer": "ipython3",
   "version": "3.7.6"
  }
 },
 "nbformat": 4,
 "nbformat_minor": 4
}
