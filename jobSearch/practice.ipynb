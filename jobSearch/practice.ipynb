{
 "cells": [
  {
   "cell_type": "raw",
   "metadata": {},
   "source": [
    "source\n",
    "1. https://blog.jiatool.com/posts/job104_spider/\n",
    "2. https://p4css.github.io/R4CSS_TA/AS07_Web-Scraping-JSON_ref.html\n",
    "3. https://tlyu0419.github.io/2020/06/19/Crawler-104HumanResource/\n",
    "4. https://github.com/SuYenTing/Python-web-crawler"
   ]
  },
  {
   "cell_type": "code",
   "execution_count": 1,
   "metadata": {},
   "outputs": [],
   "source": [
    "import time\n",
    "import random\n",
    "import requests"
   ]
  },
  {
   "cell_type": "code",
   "execution_count": 17,
   "metadata": {},
   "outputs": [],
   "source": [
    "class Job104Spider():\n",
    "    def search(self, keyword, max_nun=10, filter_params=None, sort_type='符合度', is_sort_asc=False):\n",
    "        # 產生搜尋結果\n",
    "        jobs = []\n",
    "        total_count = 0\n",
    "\n",
    "        url = 'https://www.104.com.tw/jobs/search/list'\n",
    "        # 這個url不是從網址來的，要到F12>XHR>Headers中查找，所以一定要最後面的list\n",
    "        query = f'ro=0&kwop=7&keyword={keyword}&expansionType=area,spec,com,job,wf,wktm&mode=s&jobsource=2018indexpoc'\n",
    "        if filter_params:\n",
    "            # 加上篩選參數，要先轉換為 URL 參數字串格式\n",
    "            query += ''.join([f'&{key}={value}' for key, value, in filter_params.items()])\n",
    "            \n",
    "        # 加上排序條件\n",
    "        sort_dict = {\n",
    "            '符合度': '1',\n",
    "            '日期': '2',\n",
    "            '經歷': '3',\n",
    "            '學歷': '4',\n",
    "            '應徵人數': '7',\n",
    "            '待遇': '13',\n",
    "        }\n",
    "        \n",
    "        # 結果排序\n",
    "        sort_params = f\"&order={sort_dict.get(sort_type, '1')}\"\n",
    "        sort_params += '&asc=1' if is_sort_asc else '&asc=0'\n",
    "        query += sort_params\n",
    "            \n",
    "        # 設定headers，偽裝成真人搜尋，避免被網頁偵測到\n",
    "        headers = {\n",
    "            'User-Agent': 'Mozilla/5.0 (Windows NT 10.0; Win64; x64) AppleWebKit/537.36 (KHTML, like Gecko) Chrome/81.0.4044.92 Safari/537.36',\n",
    "            'Referer': 'https://www.104.com.tw/jobs/search/',\n",
    "        }\n",
    "        \n",
    "        page = 1\n",
    "        while len(jobs) < max_nun:\n",
    "            params = f'{query}&page={page}'\n",
    "            r = requests.get(url, params=params, headers=headers)\n",
    "            if r.status_code != requests.codes.ok:\n",
    "                print('請求失敗', r.status_code)\n",
    "                data = r.json()\n",
    "                print(data['status'], data['statusMsg'], data['errorMsg'])\n",
    "                break\n",
    "\n",
    "            data = r.json()\n",
    "            total_count = data['data']['totalCount']\n",
    "            jobs.extend(data['data']['list'])\n",
    "\n",
    "            if (page == data['data']['totalPage']) or (data['data']['totalPage'] == 0):\n",
    "                break\n",
    "            page += 1\n",
    "            time.sleep(random.uniform(3, 5))\n",
    "\n",
    "        return total_count, jobs[:max_nun]\n",
    "    \n",
    "    def get_job(self):\n",
    "        # 查看搜尋結果詳情\n",
    "        pass\n",
    "    \n",
    "    def search_job_transform(self, job_data):\n",
    "        # 轉換格式\n",
    "        \"\"\"將職缺資料轉換格式、補齊資料\"\"\"\n",
    "        appear_date = job_data['appearDate']\n",
    "        apply_num = int(job_data['applyCnt'])\n",
    "        company_addr = f\"{job_data['jobAddrNoDesc']} {job_data['jobAddress']}\"\n",
    "\n",
    "        job_url = f\"https:{job_data['link']['job']}\"\n",
    "        job_company_url = f\"https:{job_data['link']['cust']}\"\n",
    "        job_analyze_url = f\"https:{job_data['link']['applyAnalyze']}\"\n",
    "\n",
    "        job_id = job_url.split('/job/')[-1]\n",
    "        if '?' in job_id:\n",
    "            job_id = job_id.split('?')[0]\n",
    "\n",
    "        salary_high = int(job_data['salaryLow'])\n",
    "        salary_low = int(job_data['salaryHigh'])\n",
    "\n",
    "        job = {\n",
    "            'job_id': job_id,\n",
    "            'type': job_data['jobType'],\n",
    "            'name': job_data['jobName'],  # 職缺名稱\n",
    "            # 'desc': job_data['descSnippet'],  # 描述\n",
    "            'appear_date': appear_date,  # 更新日期\n",
    "            'apply_num': apply_num,\n",
    "            'apply_text': job_data['applyDesc'],  # 應徵人數描述\n",
    "            'company_name': job_data['custName'],  # 公司名稱\n",
    "            'company_addr': company_addr,  # 工作地址\n",
    "            'job_url': job_url,  # 職缺網頁\n",
    "            'job_analyze_url': job_analyze_url,  # 應徵分析網頁\n",
    "            'job_company_url': job_company_url,  # 公司介紹網頁\n",
    "            'lon': job_data['lon'],  # 經度\n",
    "            'lat': job_data['lat'],  # 緯度\n",
    "            'education': job_data['optionEdu'],  # 學歷\n",
    "            'period': job_data['periodDesc'],  # 經驗年份\n",
    "            'salary': job_data['salaryDesc'],  # 薪資描述\n",
    "            'salary_high': salary_high,  # 薪資最高\n",
    "            'salary_low': salary_low,  # 薪資最低\n",
    "            'tags': job_data['tags'],  # 標籤\n",
    "        }\n",
    "        return job"
   ]
  },
  {
   "cell_type": "code",
   "execution_count": 18,
   "metadata": {},
   "outputs": [],
   "source": [
    "job104_spider = Job104Spider()"
   ]
  },
  {
   "cell_type": "code",
   "execution_count": 19,
   "metadata": {},
   "outputs": [],
   "source": [
    "filter_params = {\n",
    "    'area': '6001001000,6001016000',  # (地區) 台北市,高雄市\n",
    "    # 's9': '1,2,4,8',  # (上班時段) 日班,夜班,大夜班,假日班\n",
    "    # 's5': '0',  # 0:不需輪班 256:輪班\n",
    "    # 'wktm': '1',  # (休假制度) 週休二日\n",
    "    # 'isnew': '0',  # (更新日期) 0:本日最新 3:三日內 7:一週內 14:兩週內 30:一個月內\n",
    "    # 'jobexp': '1,3,5,10,99',  # (經歷要求) 1年以下,1-3年,3-5年,5-10年,10年以上\n",
    "    # 'newZone': '1,2,3,4,5',  # (科技園區) 竹科,中科,南科,內湖,南港\n",
    "    # 'zone': '16',  # (公司類型) 16:上市上櫃 5:外商一般 4:外商資訊\n",
    "    # 'wf': '1,2,3,4,5,6,7,8,9,10',  # (福利制度) 年終獎金,三節獎金,員工旅遊,分紅配股,設施福利,休假福利,津貼/補助,彈性上下班,健康檢查,團體保險\n",
    "    # 'edu': '1,2,3,4,5,6',  # (學歷要求) 高中職以下,高中職,專科,大學,碩士,博士\n",
    "    # 'remoteWork': '1',  # (上班型態) 1:完全遠端 2:部分遠端\n",
    "    # 'excludeJobKeyword': '科技',  # 排除關鍵字\n",
    "    # 'kwop': '1',  # 只搜尋職務名稱\n",
    "    }"
   ]
  },
  {
   "cell_type": "code",
   "execution_count": 20,
   "metadata": {},
   "outputs": [],
   "source": [
    "total_count, jobs= job104_spider.search('python', max_nun=10, filter_params=filter_params)"
   ]
  },
  {
   "cell_type": "code",
   "execution_count": 21,
   "metadata": {},
   "outputs": [
    {
     "name": "stdout",
     "output_type": "stream",
     "text": [
      "搜尋結果職缺總數： 3392\n"
     ]
    }
   ],
   "source": [
    "print('搜尋結果職缺總數：', total_count)"
   ]
  },
  {
   "cell_type": "code",
   "execution_count": 22,
   "metadata": {},
   "outputs": [
    {
     "name": "stdout",
     "output_type": "stream",
     "text": [
      "{'job_id': '74nyj', 'type': '1', 'name': 'EVOX DevOps 雲端維運工程師', 'appear_date': '20211228', 'apply_num': 6, 'apply_text': '6~10人應徵', 'company_name': '美商迪諾亞股份有限公司台灣分公司', 'company_addr': '台北市內湖區 內湖路一段316號5樓之1', 'job_url': 'https://www.104.com.tw/job/74nyj?jobsource=hotjob_chr', 'job_analyze_url': 'https://www.104.com.tw/jobs/apply/analysis/74nyj?channel=104rpt&jobsource=hotjob_chr', 'job_company_url': 'https://www.104.com.tw/company/1a2x6bjncy?jobsource=hotjob_chr', 'lon': '121.5694678', 'lat': '25.081577', 'education': '大學', 'period': '3年以上', 'salary': '待遇面議', 'salary_high': 0, 'salary_low': 0, 'tags': ['員工30人']}\n"
     ]
    }
   ],
   "source": [
    "jobs = [job104_spider.search_job_transform(job) for job in jobs]\n",
    "print(jobs[0])"
   ]
  },
  {
   "cell_type": "code",
   "execution_count": null,
   "metadata": {},
   "outputs": [],
   "source": []
  }
 ],
 "metadata": {
  "kernelspec": {
   "display_name": "Python 3",
   "language": "python",
   "name": "python3"
  },
  "language_info": {
   "codemirror_mode": {
    "name": "ipython",
    "version": 3
   },
   "file_extension": ".py",
   "mimetype": "text/x-python",
   "name": "python",
   "nbconvert_exporter": "python",
   "pygments_lexer": "ipython3",
   "version": "3.7.6"
  }
 },
 "nbformat": 4,
 "nbformat_minor": 4
}
